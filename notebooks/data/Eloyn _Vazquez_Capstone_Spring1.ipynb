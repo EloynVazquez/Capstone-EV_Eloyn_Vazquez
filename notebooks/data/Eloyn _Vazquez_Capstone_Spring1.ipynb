{
 "cells": [
  {
   "cell_type": "markdown",
   "id": "d2939085-e302-4f24-a64e-1d9b6ef02833",
   "metadata": {
    "colab_type": "text",
    "id": "ZE-SbhQ-kYLx",
    "tags": []
   },
   "source": [
    "<div id=\"container\" style=\"position:relative;\">\n",
    "<div style=\"float:left\"><h1>Capstone: Electric Vehicles (EVs) </h1></div>\n",
    "<div style=\"position:relative; float:right\"><img style=\"height:65px\" src =\"https://drive.google.com/uc?export=view&id=1EnB0x-fdqMp6I5iMoEBBEuxB_s7AmE2k\" />\n",
    "</div>\n",
    "\n",
    "\n",
    "\n",
    "\n"
   ]
  },
  {
   "cell_type": "markdown",
   "id": "27e129b9",
   "metadata": {
    "colab_type": "text",
    "id": "V08Pvv0jkYLz"
   },
   "source": [
    "### Eloyn Vazquez."
   ]
  },
  {
   "cell_type": "markdown",
   "id": "c6c4f0c8-0573-40cf-adf1-e8cb09178931",
   "metadata": {
    "colab_type": "text",
    "id": "V08Pvv0jkYLz"
   },
   "source": [
    "\n",
    "\n",
    "## Content:\n",
    "\n",
    "#### Introducction.\n",
    "\n",
    "Part 1 - Basic Analysis\n",
    "\n",
    "\n",
    "Part 2 - Data Cleaning\n",
    "\n",
    "Part 3 - EDA\n",
    "\n"
   ]
  },
  {
   "cell_type": "markdown",
   "id": "261d44e9-0465-4212-bd72-45c2da1e6d32",
   "metadata": {
    "colab_type": "text",
    "id": "V08Pvv0jkYLz"
   },
   "source": [
    "\n",
    " ## Analysis of Electric Vehicles and Charging Station Proximity in Washington State\n",
    "  \n",
    "  \n",
    "### Introduction\n",
    "\n",
    "\n",
    "In this project, we aim to explore the distribution and characteristics of electric vehicles (EVs) in Washington State, alongside the availability and accessibility of EV charging stations. Our analysis is grounded in two key datasets: one detailing EV registrations across various Washington locales and another cataloging the locations and types of EV charging stations as of January 31, 2023.\n",
    "\n",
    "\n",
    "\n"
   ]
  },
  {
   "cell_type": "markdown",
   "id": "f7d82f9a-c9eb-4db6-8404-4346da816bdb",
   "metadata": {
    "colab_type": "text",
    "id": "V08Pvv0jkYLz"
   },
   "source": [
    "### Part 1 -Basic Analysis\n",
    "\n",
    "\n",
    "\n"
   ]
  },
  {
   "cell_type": "code",
   "execution_count": 1,
   "id": "5e132146",
   "metadata": {
    "tags": []
   },
   "outputs": [],
   "source": [
    "# First I import the pandas , Numpy and the data frame."
   ]
  },
  {
   "cell_type": "code",
   "execution_count": 1,
   "id": "fc7bcbdd",
   "metadata": {
    "tags": []
   },
   "outputs": [],
   "source": [
    "import pandas as pd\n",
    "import numpy as np\n",
    "import matplotlib.pyplot as plt\n",
    "import seaborn as sns"
   ]
  },
  {
   "cell_type": "code",
   "execution_count": 2,
   "id": "824fec66-fd26-421e-a30f-6b1b6e3f1d20",
   "metadata": {
    "tags": []
   },
   "outputs": [],
   "source": [
    "# now let import the datasets"
   ]
  },
  {
   "cell_type": "code",
   "execution_count": 3,
   "id": "3a67fd0b-f039-4ef6-b019-bb8d079e8bff",
   "metadata": {
    "tags": []
   },
   "outputs": [],
   "source": [
    "population_evs = pd.read_csv(\"WASHINTON POPULATION EVS.csv\")\n",
    "\n",
    "\n"
   ]
  },
  {
   "cell_type": "code",
   "execution_count": 4,
   "id": "21e9b9ae-8c5e-40cb-bdb9-e3d3aa6ffa8f",
   "metadata": {
    "tags": []
   },
   "outputs": [
    {
     "data": {
      "text/plain": [
       "<bound method DataFrame.info of         VIN (1-10)        County               City State  Postal Code  \\\n",
       "0       KM8K33AGXL          King            Seattle    WA      98103.0   \n",
       "1       1C4RJYB61N          King            Bothell    WA      98011.0   \n",
       "2       1C4RJYD61P        Yakima             Yakima    WA      98908.0   \n",
       "3       5YJ3E1EA7J          King           Kirkland    WA      98034.0   \n",
       "4       WBY7Z8C5XJ      Thurston            Olympia    WA      98501.0   \n",
       "...            ...           ...                ...   ...          ...   \n",
       "150477  WBY43AW05P  Grays Harbor          Montesano    WA      98563.0   \n",
       "150478  5YJ3E1EB7P          King            Seattle    WA      98104.0   \n",
       "150479  5YJYGDEEXM          King            Seattle    WA      98109.0   \n",
       "150480  5UXTA6C08P     Snohomish  Mountlake Terrace    WA      98043.0   \n",
       "150481  7SAYGDEF8N        Skagit       Mount Vernon    WA      98273.0   \n",
       "\n",
       "        Model Year     Make           Model  \\\n",
       "0             2020  HYUNDAI            KONA   \n",
       "1             2022     JEEP  GRAND CHEROKEE   \n",
       "2             2023     JEEP  GRAND CHEROKEE   \n",
       "3             2018    TESLA         MODEL 3   \n",
       "4             2018      BMW              I3   \n",
       "...            ...      ...             ...   \n",
       "150477        2023      BMW              I4   \n",
       "150478        2023    TESLA         MODEL 3   \n",
       "150479        2021    TESLA         MODEL Y   \n",
       "150480        2023      BMW              X5   \n",
       "150481        2022    TESLA         MODEL Y   \n",
       "\n",
       "                         Electric Vehicle Type  \\\n",
       "0               Battery Electric Vehicle (BEV)   \n",
       "1       Plug-in Hybrid Electric Vehicle (PHEV)   \n",
       "2       Plug-in Hybrid Electric Vehicle (PHEV)   \n",
       "3               Battery Electric Vehicle (BEV)   \n",
       "4       Plug-in Hybrid Electric Vehicle (PHEV)   \n",
       "...                                        ...   \n",
       "150477          Battery Electric Vehicle (BEV)   \n",
       "150478          Battery Electric Vehicle (BEV)   \n",
       "150479          Battery Electric Vehicle (BEV)   \n",
       "150480  Plug-in Hybrid Electric Vehicle (PHEV)   \n",
       "150481          Battery Electric Vehicle (BEV)   \n",
       "\n",
       "        Clean Alternative Fuel Vehicle (CAFV) Eligibility  Electric Range  \\\n",
       "0                 Clean Alternative Fuel Vehicle Eligible             258   \n",
       "1                   Not eligible due to low battery range              25   \n",
       "2                   Not eligible due to low battery range              25   \n",
       "3                 Clean Alternative Fuel Vehicle Eligible             215   \n",
       "4                 Clean Alternative Fuel Vehicle Eligible              97   \n",
       "...                                                   ...             ...   \n",
       "150477  Eligibility unknown as battery range has not b...               0   \n",
       "150478  Eligibility unknown as battery range has not b...               0   \n",
       "150479  Eligibility unknown as battery range has not b...               0   \n",
       "150480            Clean Alternative Fuel Vehicle Eligible              30   \n",
       "150481  Eligibility unknown as battery range has not b...               0   \n",
       "\n",
       "        Base MSRP  Legislative District  DOL Vehicle ID  \\\n",
       "0               0                  43.0       249675142   \n",
       "1               0                   1.0       233928502   \n",
       "2               0                  14.0       229675939   \n",
       "3               0                  45.0       104714466   \n",
       "4               0                  22.0       185498386   \n",
       "...           ...                   ...             ...   \n",
       "150477          0                  19.0       251204075   \n",
       "150478          0                  43.0       241344414   \n",
       "150479          0                  43.0       180705626   \n",
       "150480          0                   1.0       240473950   \n",
       "150481          0                  40.0       207667589   \n",
       "\n",
       "                       Vehicle Location  \\\n",
       "0          POINT (-122.34301 47.659185)   \n",
       "1          POINT (-122.20578 47.762405)   \n",
       "2       POINT (-120.6027202 46.5965625)   \n",
       "3          POINT (-122.209285 47.71124)   \n",
       "4          POINT (-122.89692 47.043535)   \n",
       "...                                 ...   \n",
       "150477     POINT (-123.60535 46.982215)   \n",
       "150478      POINT (-122.329075 47.6018)   \n",
       "150479     POINT (-122.34848 47.632405)   \n",
       "150480      POINT (-122.30842 47.78416)   \n",
       "150481     POINT (-122.338975 48.41333)   \n",
       "\n",
       "                                         Electric Utility  2020 Census Tract  \n",
       "0            CITY OF SEATTLE - (WA)|CITY OF TACOMA - (WA)       5.303300e+10  \n",
       "1           PUGET SOUND ENERGY INC||CITY OF TACOMA - (WA)       5.303302e+10  \n",
       "2                                              PACIFICORP       5.307700e+10  \n",
       "3           PUGET SOUND ENERGY INC||CITY OF TACOMA - (WA)       5.303302e+10  \n",
       "4                                  PUGET SOUND ENERGY INC       5.306701e+10  \n",
       "...                                                   ...                ...  \n",
       "150477  BONNEVILLE POWER ADMINISTRATION||PUD NO 1 OF G...       5.302700e+10  \n",
       "150478       CITY OF SEATTLE - (WA)|CITY OF TACOMA - (WA)       5.303301e+10  \n",
       "150479       CITY OF SEATTLE - (WA)|CITY OF TACOMA - (WA)       5.303301e+10  \n",
       "150480                             PUGET SOUND ENERGY INC       5.306105e+10  \n",
       "150481                             PUGET SOUND ENERGY INC       5.305795e+10  \n",
       "\n",
       "[150482 rows x 17 columns]>"
      ]
     },
     "execution_count": 4,
     "metadata": {},
     "output_type": "execute_result"
    }
   ],
   "source": [
    "population_evs.info"
   ]
  },
  {
   "cell_type": "code",
   "execution_count": 5,
   "id": "33f4afaa-8ad3-4883-8125-f3ba17988896",
   "metadata": {
    "tags": []
   },
   "outputs": [
    {
     "data": {
      "text/plain": [
       "(150482, 17)"
      ]
     },
     "execution_count": 5,
     "metadata": {},
     "output_type": "execute_result"
    }
   ],
   "source": [
    "\n",
    "population_evs.shape"
   ]
  },
  {
   "cell_type": "code",
   "execution_count": 6,
   "id": "62ecc5bf-2b23-45fd-b4cf-7d31a4775ec1",
   "metadata": {
    "tags": []
   },
   "outputs": [],
   "source": [
    "charging_stations = pd.read_csv(\"EV_Charging_Stations_Jan312023 (2).csv\")"
   ]
  },
  {
   "cell_type": "code",
   "execution_count": 7,
   "id": "f2727459-4e82-4a9b-9191-af899b37590a",
   "metadata": {
    "tags": []
   },
   "outputs": [
    {
     "data": {
      "text/plain": [
       "(54238, 13)"
      ]
     },
     "execution_count": 7,
     "metadata": {},
     "output_type": "execute_result"
    }
   ],
   "source": [
    "charging_stations.shape"
   ]
  },
  {
   "cell_type": "code",
   "execution_count": 8,
   "id": "5a262ad9-67f0-497e-bbf2-aa92d27ca330",
   "metadata": {
    "tags": []
   },
   "outputs": [
    {
     "data": {
      "text/plain": [
       "<bound method DataFrame.info of                                Station Name             Street Address  \\\n",
       "0                                       K2              14052 E 2nd St   \n",
       "1                         Denali Brewing Co    37083 Talkeetna Spur Rd   \n",
       "2                        Alaskan Brewing Co       5364 Commercial Blvd   \n",
       "3                      Chevrolet of Wasilla           3700 E Parks Hwy   \n",
       "4            University of Alaska Southeast        11066 Auke Lake Way   \n",
       "...                                     ...                        ...   \n",
       "54233  Kroger-City Market 412 (Rawlins, WY)          602 N Higley Blvd   \n",
       "54234                        BATTERY PARK 1               36 W 3rd Ave   \n",
       "54235                        BATTERY PARK 2               36 W 3rd Ave   \n",
       "54236           Fremont Motor Sheridan Ford        1658 Coffeen Avenue   \n",
       "54237       TOWN OF JACKSON PARK & REC MAIN  400 West Snow King Avenue   \n",
       "\n",
       "            City State    ZIP  EV Level1 EVSE Num  EV Level2 EVSE Num  \\\n",
       "0      Talkeetna    AK  99676                 NaN                 1.0   \n",
       "1      Talkeetna    AK  99676                 NaN                 NaN   \n",
       "2         Juneau    AK  99801                 NaN                 NaN   \n",
       "3        Wasilla    AK  99654                 NaN                 2.0   \n",
       "4         Juneau    AK  99801                 NaN                 2.0   \n",
       "...          ...   ...    ...                 ...                 ...   \n",
       "54233    Rawlins    WY  82301                 NaN                 NaN   \n",
       "54234      Afton    WY  83110                 NaN                 NaN   \n",
       "54235      Afton    WY  83110                 NaN                 NaN   \n",
       "54236   Sheridan    WY  82801                 NaN                 1.0   \n",
       "54237    Jackson    WY  83001                 NaN                 2.0   \n",
       "\n",
       "       EV DC Fast Count           EV Network  EV Connector Types Access Code  \\\n",
       "0                   NaN        Non-Networked               TESLA      Public   \n",
       "1                   1.0        Non-Networked             CHADEMO      Public   \n",
       "2                   1.0        Non-Networked             CHADEMO      Public   \n",
       "3                   1.0        Non-Networked    J1772 J1772COMBO      Public   \n",
       "4                   NaN        Non-Networked               J1772      Public   \n",
       "...                 ...                  ...                 ...         ...   \n",
       "54233               4.0    Electrify America  CHADEMO J1772COMBO      Public   \n",
       "54234               1.0  ChargePoint Network  CHADEMO J1772COMBO      Public   \n",
       "54235               1.0  ChargePoint Network  CHADEMO J1772COMBO      Public   \n",
       "54236               NaN        Blink Network               J1772      Public   \n",
       "54237               NaN  ChargePoint Network               J1772      Public   \n",
       "\n",
       "       Access Detail Code                  Facility Type  \n",
       "0                     NaN                        Airport  \n",
       "1      CREDIT_CARD_ALWAYS  Brewerly, Distillery, Winnery  \n",
       "2      CREDIT_CARD_ALWAYS  Brewerly, Distillery, Winnery  \n",
       "3                     NaN                     Car Dealer  \n",
       "4                     NaN                 College Campus  \n",
       "...                   ...                            ...  \n",
       "54233                 NaN                            NaN  \n",
       "54234                 NaN                            NaN  \n",
       "54235                 NaN                            NaN  \n",
       "54236                 NaN                            NaN  \n",
       "54237                 NaN                            NaN  \n",
       "\n",
       "[54238 rows x 13 columns]>"
      ]
     },
     "execution_count": 8,
     "metadata": {},
     "output_type": "execute_result"
    }
   ],
   "source": [
    "charging_stations.info"
   ]
  },
  {
   "cell_type": "code",
   "execution_count": 9,
   "id": "c528ec1e-05d0-4f92-850e-aa5fe1a56e09",
   "metadata": {
    "tags": []
   },
   "outputs": [],
   "source": [
    "\n",
    "\n",
    "\n",
    "# let's check the colums name"
   ]
  },
  {
   "cell_type": "code",
   "execution_count": 10,
   "id": "09d77f39-8719-4c9b-9f71-3190f6752581",
   "metadata": {
    "tags": []
   },
   "outputs": [
    {
     "data": {
      "text/html": [
       "<div>\n",
       "<style scoped>\n",
       "    .dataframe tbody tr th:only-of-type {\n",
       "        vertical-align: middle;\n",
       "    }\n",
       "\n",
       "    .dataframe tbody tr th {\n",
       "        vertical-align: top;\n",
       "    }\n",
       "\n",
       "    .dataframe thead th {\n",
       "        text-align: right;\n",
       "    }\n",
       "</style>\n",
       "<table border=\"1\" class=\"dataframe\">\n",
       "  <thead>\n",
       "    <tr style=\"text-align: right;\">\n",
       "      <th></th>\n",
       "      <th>VIN (1-10)</th>\n",
       "      <th>County</th>\n",
       "      <th>City</th>\n",
       "      <th>State</th>\n",
       "      <th>Postal Code</th>\n",
       "      <th>Model Year</th>\n",
       "      <th>Make</th>\n",
       "      <th>Model</th>\n",
       "      <th>Electric Vehicle Type</th>\n",
       "      <th>Clean Alternative Fuel Vehicle (CAFV) Eligibility</th>\n",
       "      <th>Electric Range</th>\n",
       "      <th>Base MSRP</th>\n",
       "      <th>Legislative District</th>\n",
       "      <th>DOL Vehicle ID</th>\n",
       "      <th>Vehicle Location</th>\n",
       "      <th>Electric Utility</th>\n",
       "      <th>2020 Census Tract</th>\n",
       "    </tr>\n",
       "  </thead>\n",
       "  <tbody>\n",
       "    <tr>\n",
       "      <th>0</th>\n",
       "      <td>KM8K33AGXL</td>\n",
       "      <td>King</td>\n",
       "      <td>Seattle</td>\n",
       "      <td>WA</td>\n",
       "      <td>98103.0</td>\n",
       "      <td>2020</td>\n",
       "      <td>HYUNDAI</td>\n",
       "      <td>KONA</td>\n",
       "      <td>Battery Electric Vehicle (BEV)</td>\n",
       "      <td>Clean Alternative Fuel Vehicle Eligible</td>\n",
       "      <td>258</td>\n",
       "      <td>0</td>\n",
       "      <td>43.0</td>\n",
       "      <td>249675142</td>\n",
       "      <td>POINT (-122.34301 47.659185)</td>\n",
       "      <td>CITY OF SEATTLE - (WA)|CITY OF TACOMA - (WA)</td>\n",
       "      <td>5.303300e+10</td>\n",
       "    </tr>\n",
       "    <tr>\n",
       "      <th>1</th>\n",
       "      <td>1C4RJYB61N</td>\n",
       "      <td>King</td>\n",
       "      <td>Bothell</td>\n",
       "      <td>WA</td>\n",
       "      <td>98011.0</td>\n",
       "      <td>2022</td>\n",
       "      <td>JEEP</td>\n",
       "      <td>GRAND CHEROKEE</td>\n",
       "      <td>Plug-in Hybrid Electric Vehicle (PHEV)</td>\n",
       "      <td>Not eligible due to low battery range</td>\n",
       "      <td>25</td>\n",
       "      <td>0</td>\n",
       "      <td>1.0</td>\n",
       "      <td>233928502</td>\n",
       "      <td>POINT (-122.20578 47.762405)</td>\n",
       "      <td>PUGET SOUND ENERGY INC||CITY OF TACOMA - (WA)</td>\n",
       "      <td>5.303302e+10</td>\n",
       "    </tr>\n",
       "    <tr>\n",
       "      <th>2</th>\n",
       "      <td>1C4RJYD61P</td>\n",
       "      <td>Yakima</td>\n",
       "      <td>Yakima</td>\n",
       "      <td>WA</td>\n",
       "      <td>98908.0</td>\n",
       "      <td>2023</td>\n",
       "      <td>JEEP</td>\n",
       "      <td>GRAND CHEROKEE</td>\n",
       "      <td>Plug-in Hybrid Electric Vehicle (PHEV)</td>\n",
       "      <td>Not eligible due to low battery range</td>\n",
       "      <td>25</td>\n",
       "      <td>0</td>\n",
       "      <td>14.0</td>\n",
       "      <td>229675939</td>\n",
       "      <td>POINT (-120.6027202 46.5965625)</td>\n",
       "      <td>PACIFICORP</td>\n",
       "      <td>5.307700e+10</td>\n",
       "    </tr>\n",
       "    <tr>\n",
       "      <th>3</th>\n",
       "      <td>5YJ3E1EA7J</td>\n",
       "      <td>King</td>\n",
       "      <td>Kirkland</td>\n",
       "      <td>WA</td>\n",
       "      <td>98034.0</td>\n",
       "      <td>2018</td>\n",
       "      <td>TESLA</td>\n",
       "      <td>MODEL 3</td>\n",
       "      <td>Battery Electric Vehicle (BEV)</td>\n",
       "      <td>Clean Alternative Fuel Vehicle Eligible</td>\n",
       "      <td>215</td>\n",
       "      <td>0</td>\n",
       "      <td>45.0</td>\n",
       "      <td>104714466</td>\n",
       "      <td>POINT (-122.209285 47.71124)</td>\n",
       "      <td>PUGET SOUND ENERGY INC||CITY OF TACOMA - (WA)</td>\n",
       "      <td>5.303302e+10</td>\n",
       "    </tr>\n",
       "    <tr>\n",
       "      <th>4</th>\n",
       "      <td>WBY7Z8C5XJ</td>\n",
       "      <td>Thurston</td>\n",
       "      <td>Olympia</td>\n",
       "      <td>WA</td>\n",
       "      <td>98501.0</td>\n",
       "      <td>2018</td>\n",
       "      <td>BMW</td>\n",
       "      <td>I3</td>\n",
       "      <td>Plug-in Hybrid Electric Vehicle (PHEV)</td>\n",
       "      <td>Clean Alternative Fuel Vehicle Eligible</td>\n",
       "      <td>97</td>\n",
       "      <td>0</td>\n",
       "      <td>22.0</td>\n",
       "      <td>185498386</td>\n",
       "      <td>POINT (-122.89692 47.043535)</td>\n",
       "      <td>PUGET SOUND ENERGY INC</td>\n",
       "      <td>5.306701e+10</td>\n",
       "    </tr>\n",
       "  </tbody>\n",
       "</table>\n",
       "</div>"
      ],
      "text/plain": [
       "   VIN (1-10)    County      City State  Postal Code  Model Year     Make  \\\n",
       "0  KM8K33AGXL      King   Seattle    WA      98103.0        2020  HYUNDAI   \n",
       "1  1C4RJYB61N      King   Bothell    WA      98011.0        2022     JEEP   \n",
       "2  1C4RJYD61P    Yakima    Yakima    WA      98908.0        2023     JEEP   \n",
       "3  5YJ3E1EA7J      King  Kirkland    WA      98034.0        2018    TESLA   \n",
       "4  WBY7Z8C5XJ  Thurston   Olympia    WA      98501.0        2018      BMW   \n",
       "\n",
       "            Model                   Electric Vehicle Type  \\\n",
       "0            KONA          Battery Electric Vehicle (BEV)   \n",
       "1  GRAND CHEROKEE  Plug-in Hybrid Electric Vehicle (PHEV)   \n",
       "2  GRAND CHEROKEE  Plug-in Hybrid Electric Vehicle (PHEV)   \n",
       "3         MODEL 3          Battery Electric Vehicle (BEV)   \n",
       "4              I3  Plug-in Hybrid Electric Vehicle (PHEV)   \n",
       "\n",
       "  Clean Alternative Fuel Vehicle (CAFV) Eligibility  Electric Range  \\\n",
       "0           Clean Alternative Fuel Vehicle Eligible             258   \n",
       "1             Not eligible due to low battery range              25   \n",
       "2             Not eligible due to low battery range              25   \n",
       "3           Clean Alternative Fuel Vehicle Eligible             215   \n",
       "4           Clean Alternative Fuel Vehicle Eligible              97   \n",
       "\n",
       "   Base MSRP  Legislative District  DOL Vehicle ID  \\\n",
       "0          0                  43.0       249675142   \n",
       "1          0                   1.0       233928502   \n",
       "2          0                  14.0       229675939   \n",
       "3          0                  45.0       104714466   \n",
       "4          0                  22.0       185498386   \n",
       "\n",
       "                  Vehicle Location  \\\n",
       "0     POINT (-122.34301 47.659185)   \n",
       "1     POINT (-122.20578 47.762405)   \n",
       "2  POINT (-120.6027202 46.5965625)   \n",
       "3     POINT (-122.209285 47.71124)   \n",
       "4     POINT (-122.89692 47.043535)   \n",
       "\n",
       "                                Electric Utility  2020 Census Tract  \n",
       "0   CITY OF SEATTLE - (WA)|CITY OF TACOMA - (WA)       5.303300e+10  \n",
       "1  PUGET SOUND ENERGY INC||CITY OF TACOMA - (WA)       5.303302e+10  \n",
       "2                                     PACIFICORP       5.307700e+10  \n",
       "3  PUGET SOUND ENERGY INC||CITY OF TACOMA - (WA)       5.303302e+10  \n",
       "4                         PUGET SOUND ENERGY INC       5.306701e+10  "
      ]
     },
     "execution_count": 10,
     "metadata": {},
     "output_type": "execute_result"
    }
   ],
   "source": [
    "population_evs.head()"
   ]
  },
  {
   "cell_type": "code",
   "execution_count": 11,
   "id": "28f4e104-da50-471f-a564-bdec5623c55f",
   "metadata": {
    "tags": []
   },
   "outputs": [],
   "source": [
    "washington_charging_stations = charging_stations[charging_stations['State'] == 'WA']\n"
   ]
  },
  {
   "cell_type": "code",
   "execution_count": 12,
   "id": "5ceacf16-9f44-4b6c-b847-9f5a346bb898",
   "metadata": {
    "tags": []
   },
   "outputs": [
    {
     "data": {
      "text/html": [
       "<div>\n",
       "<style scoped>\n",
       "    .dataframe tbody tr th:only-of-type {\n",
       "        vertical-align: middle;\n",
       "    }\n",
       "\n",
       "    .dataframe tbody tr th {\n",
       "        vertical-align: top;\n",
       "    }\n",
       "\n",
       "    .dataframe thead th {\n",
       "        text-align: right;\n",
       "    }\n",
       "</style>\n",
       "<table border=\"1\" class=\"dataframe\">\n",
       "  <thead>\n",
       "    <tr style=\"text-align: right;\">\n",
       "      <th></th>\n",
       "      <th>Station Name</th>\n",
       "      <th>Street Address</th>\n",
       "      <th>City</th>\n",
       "      <th>State</th>\n",
       "      <th>ZIP</th>\n",
       "      <th>EV Level1 EVSE Num</th>\n",
       "      <th>EV Level2 EVSE Num</th>\n",
       "      <th>EV DC Fast Count</th>\n",
       "      <th>EV Network</th>\n",
       "      <th>EV Connector Types</th>\n",
       "      <th>Access Code</th>\n",
       "      <th>Access Detail Code</th>\n",
       "      <th>Facility Type</th>\n",
       "    </tr>\n",
       "  </thead>\n",
       "  <tbody>\n",
       "    <tr>\n",
       "      <th>51751</th>\n",
       "      <td>Seattle-Tacoma International Airport - General...</td>\n",
       "      <td>17801 Pacific Hwy S</td>\n",
       "      <td>Seattle</td>\n",
       "      <td>WA</td>\n",
       "      <td>98188</td>\n",
       "      <td>36.0</td>\n",
       "      <td>NaN</td>\n",
       "      <td>NaN</td>\n",
       "      <td>Non-Networked</td>\n",
       "      <td>NEMA520</td>\n",
       "      <td>Public</td>\n",
       "      <td>NaN</td>\n",
       "      <td>Airport</td>\n",
       "    </tr>\n",
       "    <tr>\n",
       "      <th>51752</th>\n",
       "      <td>Seattle-Tacoma International Airport - Termina...</td>\n",
       "      <td>17801 Pacific Hwy S</td>\n",
       "      <td>Seattle</td>\n",
       "      <td>WA</td>\n",
       "      <td>98188</td>\n",
       "      <td>12.0</td>\n",
       "      <td>NaN</td>\n",
       "      <td>NaN</td>\n",
       "      <td>Non-Networked</td>\n",
       "      <td>NEMA520</td>\n",
       "      <td>Public</td>\n",
       "      <td>NaN</td>\n",
       "      <td>Airport</td>\n",
       "    </tr>\n",
       "    <tr>\n",
       "      <th>51753</th>\n",
       "      <td>Friday Harbor Airport</td>\n",
       "      <td>800 Franklin Rd</td>\n",
       "      <td>Friday Harbor</td>\n",
       "      <td>WA</td>\n",
       "      <td>98250</td>\n",
       "      <td>NaN</td>\n",
       "      <td>2.0</td>\n",
       "      <td>NaN</td>\n",
       "      <td>Non-Networked</td>\n",
       "      <td>J1772</td>\n",
       "      <td>Public</td>\n",
       "      <td>NaN</td>\n",
       "      <td>Airport</td>\n",
       "    </tr>\n",
       "    <tr>\n",
       "      <th>51754</th>\n",
       "      <td>Bellingham International Airport</td>\n",
       "      <td>4255 Mitchell Way</td>\n",
       "      <td>Bellingham</td>\n",
       "      <td>WA</td>\n",
       "      <td>98226</td>\n",
       "      <td>NaN</td>\n",
       "      <td>4.0</td>\n",
       "      <td>NaN</td>\n",
       "      <td>Non-Networked</td>\n",
       "      <td>J1772</td>\n",
       "      <td>Public</td>\n",
       "      <td>CREDIT_CARD_ALWAYS</td>\n",
       "      <td>Airport</td>\n",
       "    </tr>\n",
       "    <tr>\n",
       "      <th>51755</th>\n",
       "      <td>Colette's Bed and Breakfast - Tesla Destination</td>\n",
       "      <td>339 Finn Hall Rd</td>\n",
       "      <td>Port Angeles</td>\n",
       "      <td>WA</td>\n",
       "      <td>98362</td>\n",
       "      <td>NaN</td>\n",
       "      <td>1.0</td>\n",
       "      <td>NaN</td>\n",
       "      <td>Tesla Destination</td>\n",
       "      <td>TESLA</td>\n",
       "      <td>Public</td>\n",
       "      <td>NaN</td>\n",
       "      <td>B&amp;B</td>\n",
       "    </tr>\n",
       "    <tr>\n",
       "      <th>...</th>\n",
       "      <td>...</td>\n",
       "      <td>...</td>\n",
       "      <td>...</td>\n",
       "      <td>...</td>\n",
       "      <td>...</td>\n",
       "      <td>...</td>\n",
       "      <td>...</td>\n",
       "      <td>...</td>\n",
       "      <td>...</td>\n",
       "      <td>...</td>\n",
       "      <td>...</td>\n",
       "      <td>...</td>\n",
       "      <td>...</td>\n",
       "    </tr>\n",
       "    <tr>\n",
       "      <th>53530</th>\n",
       "      <td>SUL-EV SUL-EV1</td>\n",
       "      <td>15015 E Indiana Ave</td>\n",
       "      <td>Spokane Valley</td>\n",
       "      <td>WA</td>\n",
       "      <td>99216</td>\n",
       "      <td>NaN</td>\n",
       "      <td>2.0</td>\n",
       "      <td>NaN</td>\n",
       "      <td>ChargePoint Network</td>\n",
       "      <td>J1772</td>\n",
       "      <td>Public</td>\n",
       "      <td>NaN</td>\n",
       "      <td>NaN</td>\n",
       "    </tr>\n",
       "    <tr>\n",
       "      <th>53531</th>\n",
       "      <td>BEL-EV BEL-EV 1</td>\n",
       "      <td>4051 Meridian St</td>\n",
       "      <td>Bellingham</td>\n",
       "      <td>WA</td>\n",
       "      <td>98226</td>\n",
       "      <td>NaN</td>\n",
       "      <td>2.0</td>\n",
       "      <td>NaN</td>\n",
       "      <td>ChargePoint Network</td>\n",
       "      <td>J1772</td>\n",
       "      <td>Public</td>\n",
       "      <td>NaN</td>\n",
       "      <td>NaN</td>\n",
       "    </tr>\n",
       "    <tr>\n",
       "      <th>53532</th>\n",
       "      <td>Broadway Apartments - 2nd Floor</td>\n",
       "      <td>3214 Broadway</td>\n",
       "      <td>Everett</td>\n",
       "      <td>WA</td>\n",
       "      <td>98201</td>\n",
       "      <td>NaN</td>\n",
       "      <td>1.0</td>\n",
       "      <td>NaN</td>\n",
       "      <td>Blink Network</td>\n",
       "      <td>J1772</td>\n",
       "      <td>Private</td>\n",
       "      <td>NaN</td>\n",
       "      <td>NaN</td>\n",
       "    </tr>\n",
       "    <tr>\n",
       "      <th>53533</th>\n",
       "      <td>GARAGE WEST MAGNOLIA</td>\n",
       "      <td>104 W Magnolia St</td>\n",
       "      <td>Bellingham</td>\n",
       "      <td>WA</td>\n",
       "      <td>98225</td>\n",
       "      <td>NaN</td>\n",
       "      <td>2.0</td>\n",
       "      <td>NaN</td>\n",
       "      <td>ChargePoint Network</td>\n",
       "      <td>J1772</td>\n",
       "      <td>Public</td>\n",
       "      <td>NaN</td>\n",
       "      <td>NaN</td>\n",
       "    </tr>\n",
       "    <tr>\n",
       "      <th>53534</th>\n",
       "      <td>GARAGE SHUKSAN MEADOWS</td>\n",
       "      <td>Maplewood Ave at Cottonwood Ave</td>\n",
       "      <td>Bellingham</td>\n",
       "      <td>WA</td>\n",
       "      <td>98225</td>\n",
       "      <td>NaN</td>\n",
       "      <td>2.0</td>\n",
       "      <td>NaN</td>\n",
       "      <td>ChargePoint Network</td>\n",
       "      <td>J1772</td>\n",
       "      <td>Public</td>\n",
       "      <td>NaN</td>\n",
       "      <td>NaN</td>\n",
       "    </tr>\n",
       "  </tbody>\n",
       "</table>\n",
       "<p>1784 rows × 13 columns</p>\n",
       "</div>"
      ],
      "text/plain": [
       "                                            Station Name  \\\n",
       "51751  Seattle-Tacoma International Airport - General...   \n",
       "51752  Seattle-Tacoma International Airport - Termina...   \n",
       "51753                              Friday Harbor Airport   \n",
       "51754                   Bellingham International Airport   \n",
       "51755    Colette's Bed and Breakfast - Tesla Destination   \n",
       "...                                                  ...   \n",
       "53530                                     SUL-EV SUL-EV1   \n",
       "53531                                    BEL-EV BEL-EV 1   \n",
       "53532                    Broadway Apartments - 2nd Floor   \n",
       "53533                               GARAGE WEST MAGNOLIA   \n",
       "53534                             GARAGE SHUKSAN MEADOWS   \n",
       "\n",
       "                        Street Address            City State    ZIP  \\\n",
       "51751              17801 Pacific Hwy S         Seattle    WA  98188   \n",
       "51752              17801 Pacific Hwy S         Seattle    WA  98188   \n",
       "51753                  800 Franklin Rd   Friday Harbor    WA  98250   \n",
       "51754                4255 Mitchell Way      Bellingham    WA  98226   \n",
       "51755                 339 Finn Hall Rd    Port Angeles    WA  98362   \n",
       "...                                ...             ...   ...    ...   \n",
       "53530              15015 E Indiana Ave  Spokane Valley    WA  99216   \n",
       "53531                 4051 Meridian St      Bellingham    WA  98226   \n",
       "53532                    3214 Broadway         Everett    WA  98201   \n",
       "53533                104 W Magnolia St      Bellingham    WA  98225   \n",
       "53534  Maplewood Ave at Cottonwood Ave      Bellingham    WA  98225   \n",
       "\n",
       "       EV Level1 EVSE Num  EV Level2 EVSE Num  EV DC Fast Count  \\\n",
       "51751                36.0                 NaN               NaN   \n",
       "51752                12.0                 NaN               NaN   \n",
       "51753                 NaN                 2.0               NaN   \n",
       "51754                 NaN                 4.0               NaN   \n",
       "51755                 NaN                 1.0               NaN   \n",
       "...                   ...                 ...               ...   \n",
       "53530                 NaN                 2.0               NaN   \n",
       "53531                 NaN                 2.0               NaN   \n",
       "53532                 NaN                 1.0               NaN   \n",
       "53533                 NaN                 2.0               NaN   \n",
       "53534                 NaN                 2.0               NaN   \n",
       "\n",
       "                EV Network EV Connector Types Access Code  Access Detail Code  \\\n",
       "51751        Non-Networked            NEMA520      Public                 NaN   \n",
       "51752        Non-Networked            NEMA520      Public                 NaN   \n",
       "51753        Non-Networked              J1772      Public                 NaN   \n",
       "51754        Non-Networked              J1772      Public  CREDIT_CARD_ALWAYS   \n",
       "51755    Tesla Destination              TESLA      Public                 NaN   \n",
       "...                    ...                ...         ...                 ...   \n",
       "53530  ChargePoint Network              J1772      Public                 NaN   \n",
       "53531  ChargePoint Network              J1772      Public                 NaN   \n",
       "53532        Blink Network              J1772     Private                 NaN   \n",
       "53533  ChargePoint Network              J1772      Public                 NaN   \n",
       "53534  ChargePoint Network              J1772      Public                 NaN   \n",
       "\n",
       "      Facility Type  \n",
       "51751       Airport  \n",
       "51752       Airport  \n",
       "51753       Airport  \n",
       "51754       Airport  \n",
       "51755           B&B  \n",
       "...             ...  \n",
       "53530           NaN  \n",
       "53531           NaN  \n",
       "53532           NaN  \n",
       "53533           NaN  \n",
       "53534           NaN  \n",
       "\n",
       "[1784 rows x 13 columns]"
      ]
     },
     "execution_count": 12,
     "metadata": {},
     "output_type": "execute_result"
    }
   ],
   "source": [
    "washington_charging_stations\n"
   ]
  },
  {
   "cell_type": "code",
   "execution_count": 13,
   "id": "43e11349-fd3b-4425-b2e0-7ee1f6fc596f",
   "metadata": {
    "tags": []
   },
   "outputs": [
    {
     "data": {
      "text/html": [
       "<div>\n",
       "<style scoped>\n",
       "    .dataframe tbody tr th:only-of-type {\n",
       "        vertical-align: middle;\n",
       "    }\n",
       "\n",
       "    .dataframe tbody tr th {\n",
       "        vertical-align: top;\n",
       "    }\n",
       "\n",
       "    .dataframe thead th {\n",
       "        text-align: right;\n",
       "    }\n",
       "</style>\n",
       "<table border=\"1\" class=\"dataframe\">\n",
       "  <thead>\n",
       "    <tr style=\"text-align: right;\">\n",
       "      <th></th>\n",
       "      <th>Station Name</th>\n",
       "      <th>Street Address</th>\n",
       "      <th>City</th>\n",
       "      <th>State</th>\n",
       "      <th>ZIP</th>\n",
       "      <th>EV Level1 EVSE Num</th>\n",
       "      <th>EV Level2 EVSE Num</th>\n",
       "      <th>EV DC Fast Count</th>\n",
       "      <th>EV Network</th>\n",
       "      <th>EV Connector Types</th>\n",
       "      <th>Access Code</th>\n",
       "      <th>Access Detail Code</th>\n",
       "      <th>Facility Type</th>\n",
       "    </tr>\n",
       "  </thead>\n",
       "  <tbody>\n",
       "    <tr>\n",
       "      <th>0</th>\n",
       "      <td>K2</td>\n",
       "      <td>14052 E 2nd St</td>\n",
       "      <td>Talkeetna</td>\n",
       "      <td>AK</td>\n",
       "      <td>99676</td>\n",
       "      <td>NaN</td>\n",
       "      <td>1.0</td>\n",
       "      <td>NaN</td>\n",
       "      <td>Non-Networked</td>\n",
       "      <td>TESLA</td>\n",
       "      <td>Public</td>\n",
       "      <td>NaN</td>\n",
       "      <td>Airport</td>\n",
       "    </tr>\n",
       "    <tr>\n",
       "      <th>1</th>\n",
       "      <td>Denali Brewing Co</td>\n",
       "      <td>37083 Talkeetna Spur Rd</td>\n",
       "      <td>Talkeetna</td>\n",
       "      <td>AK</td>\n",
       "      <td>99676</td>\n",
       "      <td>NaN</td>\n",
       "      <td>NaN</td>\n",
       "      <td>1.0</td>\n",
       "      <td>Non-Networked</td>\n",
       "      <td>CHADEMO</td>\n",
       "      <td>Public</td>\n",
       "      <td>CREDIT_CARD_ALWAYS</td>\n",
       "      <td>Brewerly, Distillery, Winnery</td>\n",
       "    </tr>\n",
       "    <tr>\n",
       "      <th>2</th>\n",
       "      <td>Alaskan Brewing Co</td>\n",
       "      <td>5364 Commercial Blvd</td>\n",
       "      <td>Juneau</td>\n",
       "      <td>AK</td>\n",
       "      <td>99801</td>\n",
       "      <td>NaN</td>\n",
       "      <td>NaN</td>\n",
       "      <td>1.0</td>\n",
       "      <td>Non-Networked</td>\n",
       "      <td>CHADEMO</td>\n",
       "      <td>Public</td>\n",
       "      <td>CREDIT_CARD_ALWAYS</td>\n",
       "      <td>Brewerly, Distillery, Winnery</td>\n",
       "    </tr>\n",
       "    <tr>\n",
       "      <th>3</th>\n",
       "      <td>Chevrolet of Wasilla</td>\n",
       "      <td>3700 E Parks Hwy</td>\n",
       "      <td>Wasilla</td>\n",
       "      <td>AK</td>\n",
       "      <td>99654</td>\n",
       "      <td>NaN</td>\n",
       "      <td>2.0</td>\n",
       "      <td>1.0</td>\n",
       "      <td>Non-Networked</td>\n",
       "      <td>J1772 J1772COMBO</td>\n",
       "      <td>Public</td>\n",
       "      <td>NaN</td>\n",
       "      <td>Car Dealer</td>\n",
       "    </tr>\n",
       "    <tr>\n",
       "      <th>4</th>\n",
       "      <td>University of Alaska Southeast</td>\n",
       "      <td>11066 Auke Lake Way</td>\n",
       "      <td>Juneau</td>\n",
       "      <td>AK</td>\n",
       "      <td>99801</td>\n",
       "      <td>NaN</td>\n",
       "      <td>2.0</td>\n",
       "      <td>NaN</td>\n",
       "      <td>Non-Networked</td>\n",
       "      <td>J1772</td>\n",
       "      <td>Public</td>\n",
       "      <td>NaN</td>\n",
       "      <td>College Campus</td>\n",
       "    </tr>\n",
       "  </tbody>\n",
       "</table>\n",
       "</div>"
      ],
      "text/plain": [
       "                     Station Name           Street Address       City State  \\\n",
       "0                             K2            14052 E 2nd St  Talkeetna    AK   \n",
       "1               Denali Brewing Co  37083 Talkeetna Spur Rd  Talkeetna    AK   \n",
       "2              Alaskan Brewing Co     5364 Commercial Blvd     Juneau    AK   \n",
       "3            Chevrolet of Wasilla         3700 E Parks Hwy    Wasilla    AK   \n",
       "4  University of Alaska Southeast      11066 Auke Lake Way     Juneau    AK   \n",
       "\n",
       "     ZIP  EV Level1 EVSE Num  EV Level2 EVSE Num  EV DC Fast Count  \\\n",
       "0  99676                 NaN                 1.0               NaN   \n",
       "1  99676                 NaN                 NaN               1.0   \n",
       "2  99801                 NaN                 NaN               1.0   \n",
       "3  99654                 NaN                 2.0               1.0   \n",
       "4  99801                 NaN                 2.0               NaN   \n",
       "\n",
       "      EV Network EV Connector Types Access Code  Access Detail Code  \\\n",
       "0  Non-Networked              TESLA      Public                 NaN   \n",
       "1  Non-Networked            CHADEMO      Public  CREDIT_CARD_ALWAYS   \n",
       "2  Non-Networked            CHADEMO      Public  CREDIT_CARD_ALWAYS   \n",
       "3  Non-Networked   J1772 J1772COMBO      Public                 NaN   \n",
       "4  Non-Networked              J1772      Public                 NaN   \n",
       "\n",
       "                   Facility Type  \n",
       "0                        Airport  \n",
       "1  Brewerly, Distillery, Winnery  \n",
       "2  Brewerly, Distillery, Winnery  \n",
       "3                     Car Dealer  \n",
       "4                 College Campus  "
      ]
     },
     "execution_count": 13,
     "metadata": {},
     "output_type": "execute_result"
    }
   ],
   "source": [
    " charging_stations.head()\n",
    "    \n",
    "     "
   ]
  },
  {
   "cell_type": "markdown",
   "id": "717d221b-813a-4698-943a-45f4ecd06d74",
   "metadata": {
    "colab_type": "text",
    "id": "V08Pvv0jkYLz"
   },
   "source": [
    "### Part 2 -Data Cleaning\n",
    "\n",
    "\n",
    "\n"
   ]
  },
  {
   "cell_type": "code",
   "execution_count": 14,
   "id": "49ad6c42-6945-4061-8bbb-9d29b61b87f7",
   "metadata": {
    "tags": []
   },
   "outputs": [],
   "source": [
    "# let's check for duplicated colums"
   ]
  },
  {
   "cell_type": "code",
   "execution_count": 15,
   "id": "22d1fcc5-4961-4560-989f-a096ea5b338b",
   "metadata": {
    "tags": []
   },
   "outputs": [
    {
     "data": {
      "text/plain": [
       "0"
      ]
     },
     "execution_count": 15,
     "metadata": {},
     "output_type": "execute_result"
    }
   ],
   "source": [
    "population_evs.duplicated().sum()"
   ]
  },
  {
   "cell_type": "code",
   "execution_count": 16,
   "id": "5a4cc156-087a-4fbd-ac18-decaaed7506a",
   "metadata": {
    "tags": []
   },
   "outputs": [
    {
     "data": {
      "text/plain": [
       "147"
      ]
     },
     "execution_count": 16,
     "metadata": {},
     "output_type": "execute_result"
    }
   ],
   "source": [
    "charging_stations.duplicated().sum()\n",
    "# I have 147 duplicated values , i goona check if they have a unique values to see if they are duplicated or consider that they are multiples charge stations in the same location"
   ]
  },
  {
   "cell_type": "code",
   "execution_count": 17,
   "id": "fe8eedbe-3f02-45cc-8ac9-3f13de24500c",
   "metadata": {
    "tags": []
   },
   "outputs": [
    {
     "name": "stdout",
     "output_type": "stream",
     "text": [
      "54238\n"
     ]
    }
   ],
   "source": [
    "total_rows = charging_stations.shape[0]\n",
    "print(total_rows)"
   ]
  },
  {
   "cell_type": "code",
   "execution_count": 18,
   "id": "569675da-dc13-419d-85dd-acd42ef2acc9",
   "metadata": {
    "tags": []
   },
   "outputs": [
    {
     "name": "stdout",
     "output_type": "stream",
     "text": [
      "Station Name          51463\n",
      "Street Address        37820\n",
      "City                   5894\n",
      "State                    54\n",
      "ZIP                   10251\n",
      "EV Level1 EVSE Num       37\n",
      "EV Level2 EVSE Num       68\n",
      "EV DC Fast Count         36\n",
      "EV Network               32\n",
      "EV Connector Types       25\n",
      "Access Code               2\n",
      "Access Detail Code        9\n",
      "Facility Type            63\n",
      "dtype: int64\n"
     ]
    }
   ],
   "source": [
    "unique_values_per_column = charging_stations.nunique()\n",
    "print(unique_values_per_column)"
   ]
  },
  {
   "cell_type": "markdown",
   "id": "c4259a73-86a2-4dc2-9789-2714dfcc521c",
   "metadata": {
    "colab_type": "text",
    "id": "V08Pvv0jkYLz"
   },
   "source": [
    "\n",
    " \n",
    "\n",
    "\n",
    "After researching the duplicate values and cross-referencing with Google Maps, it appears that the duplicates are due to having 2 or 3 charging stations grouped at \n",
    "the same address, but the address itself is not listed multiple times\n",
    "in those instances. Therefore, I will remove these duplicates to ensure no repeated values in the dataset\n",
    "\n",
    "\n",
    "\n"
   ]
  },
  {
   "cell_type": "code",
   "execution_count": 19,
   "id": "7e9e93f7-0e14-46a2-a1a7-40f39dcd3abe",
   "metadata": {
    "tags": []
   },
   "outputs": [],
   "source": [
    "#drop the duplicated values\n",
    "charging_stations = charging_stations.drop_duplicates()"
   ]
  },
  {
   "cell_type": "code",
   "execution_count": 20,
   "id": "8245217f-001a-44f3-ba79-66b7a2a3dec6",
   "metadata": {
    "tags": []
   },
   "outputs": [
    {
     "data": {
      "text/plain": [
       "0"
      ]
     },
     "execution_count": 20,
     "metadata": {},
     "output_type": "execute_result"
    }
   ],
   "source": [
    "#sanity check\n",
    "charging_stations.duplicated().sum()"
   ]
  },
  {
   "cell_type": "markdown",
   "id": "61d15611-b097-4245-9b86-7ea9016b1f92",
   "metadata": {
    "colab_type": "text",
    "id": "V08Pvv0jkYLz"
   },
   "source": [
    "### Part 3 EDA\n",
    "\n",
    "\n",
    "\n"
   ]
  },
  {
   "cell_type": "markdown",
   "id": "2ffcaba0-c576-4ba4-b5ee-837f2fc2cbdf",
   "metadata": {
    "colab_type": "text",
    "id": "V08Pvv0jkYLz"
   },
   "source": [
    "\n",
    " \n",
    "\n",
    " I'm planning to create a new \"Street Address\" column in my population_evs DataFrame. This is to match the similar column in the charging_stations DataFrame, facilitating direct comparisons.\n",
    "\n",
    "\n",
    "I'll first install geopy for reverse geocoding.\n",
    "Then, I'll use the 'Vehicle Location' data to extract street addresses.\n",
    "These addresses will be added to a new \"Street Address\" column in population_evs.\n",
    "Purpose: This will help me in analyzing and comparing the two datasets more effectively.\n",
    "\n",
    "\n"
   ]
  },
  {
   "cell_type": "code",
   "execution_count": 21,
   "id": "6617d4e7-d71e-4ac5-b25c-d9914927a298",
   "metadata": {
    "tags": []
   },
   "outputs": [
    {
     "name": "stdout",
     "output_type": "stream",
     "text": [
      "Requirement already satisfied: geopy in c:\\users\\eloyn\\anaconda3\\lib\\site-packages (2.4.0)\n",
      "Requirement already satisfied: geographiclib<3,>=1.52 in c:\\users\\eloyn\\anaconda3\\lib\\site-packages (from geopy) (2.0)\n"
     ]
    }
   ],
   "source": [
    "!pip install geopy\n"
   ]
  },
  {
   "cell_type": "code",
   "execution_count": 22,
   "id": "292cd6ff-7955-4d46-ad39-e06d8defe549",
   "metadata": {
    "tags": []
   },
   "outputs": [],
   "source": [
    "from geopy.geocoders import Nominatim\n",
    "from geopy.extra.rate_limiter import RateLimiter\n",
    "import pandas as pd"
   ]
  },
  {
   "cell_type": "code",
   "execution_count": 23,
   "id": "80526e8b-e26b-4163-addb-899fd405349e",
   "metadata": {
    "tags": []
   },
   "outputs": [],
   "source": [
    "#I extracted longitude and latitude from the 'Vehicle Location' column\n",
    "population_evs[['Longitude', 'Latitude']] = population_evs['Vehicle Location'].str.extract(r'POINT \\((-?\\d+\\.?\\d*) (-?\\d+\\.?\\d*)\\)')"
   ]
  },
  {
   "cell_type": "code",
   "execution_count": 24,
   "id": "6b4e7f5b-42fe-455a-88b3-0428403d33a3",
   "metadata": {
    "tags": []
   },
   "outputs": [],
   "source": [
    "# I converted 'Longitude' and 'Latitude' columns to float\n",
    "population_evs['Longitude'] = population_evs['Longitude'].astype(float)\n",
    "population_evs['Latitude'] = population_evs['Latitude'].astype(float)"
   ]
  },
  {
   "cell_type": "code",
   "execution_count": 25,
   "id": "99ff22f0-a9c1-44a9-8b70-d9bd3d35e453",
   "metadata": {
    "tags": []
   },
   "outputs": [],
   "source": [
    "# i follow the example that i found to get this column , i just added the name of my capstone where is user agent\n",
    "geolocator = Nominatim(user_agent=\"Electric Vehicles (EVs)\")\n",
    "reverse = RateLimiter(geolocator.reverse, min_delay_seconds=1)"
   ]
  },
  {
   "cell_type": "code",
   "execution_count": 26,
   "id": "5ef5e12f-6745-4880-8c71-ccd93ea04628",
   "metadata": {
    "tags": []
   },
   "outputs": [],
   "source": [
    "# Function to apply reverse geocoding\n",
    "def get_address(row):\n",
    "    try:\n",
    "        location = reverse((row['Latitude'], row['Longitude']))\n",
    "        return location.address\n",
    "    except Exception as e:\n",
    "        return None"
   ]
  },
  {
   "cell_type": "code",
   "execution_count": 28,
   "id": "5502761d-5530-4059-a4a5-20670e598254",
   "metadata": {
    "tags": []
   },
   "outputs": [
    {
     "name": "stderr",
     "output_type": "stream",
     "text": [
      "C:\\Users\\eloyn\\AppData\\Local\\Temp\\ipykernel_32256\\4051794176.py:3: SettingWithCopyWarning: \n",
      "A value is trying to be set on a copy of a slice from a DataFrame.\n",
      "Try using .loc[row_indexer,col_indexer] = value instead\n",
      "\n",
      "See the caveats in the documentation: https://pandas.pydata.org/pandas-docs/stable/user_guide/indexing.html#returning-a-view-versus-a-copy\n",
      "  sample['Street Address'] = sample.apply(get_address, axis=1)\n"
     ]
    },
    {
     "data": {
      "text/html": [
       "<div>\n",
       "<style scoped>\n",
       "    .dataframe tbody tr th:only-of-type {\n",
       "        vertical-align: middle;\n",
       "    }\n",
       "\n",
       "    .dataframe tbody tr th {\n",
       "        vertical-align: top;\n",
       "    }\n",
       "\n",
       "    .dataframe thead th {\n",
       "        text-align: right;\n",
       "    }\n",
       "</style>\n",
       "<table border=\"1\" class=\"dataframe\">\n",
       "  <thead>\n",
       "    <tr style=\"text-align: right;\">\n",
       "      <th></th>\n",
       "      <th>Vehicle Location</th>\n",
       "      <th>Street Address</th>\n",
       "    </tr>\n",
       "  </thead>\n",
       "  <tbody>\n",
       "    <tr>\n",
       "      <th>0</th>\n",
       "      <td>POINT (-122.34301 47.659185)</td>\n",
       "      <td>1215, North 43rd Street, Wallingford, Seattle,...</td>\n",
       "    </tr>\n",
       "    <tr>\n",
       "      <th>1</th>\n",
       "      <td>POINT (-122.20578 47.762405)</td>\n",
       "      <td>18520, 101st Avenue Northeast, Wayne, Bothell,...</td>\n",
       "    </tr>\n",
       "    <tr>\n",
       "      <th>2</th>\n",
       "      <td>POINT (-120.6027202 46.5965625)</td>\n",
       "      <td>7002, West Chestnut Avenue, West Valley, Yakim...</td>\n",
       "    </tr>\n",
       "    <tr>\n",
       "      <th>3</th>\n",
       "      <td>POINT (-122.209285 47.71124)</td>\n",
       "      <td>9903, Northeast 124th Street, Juanita, Kirklan...</td>\n",
       "    </tr>\n",
       "    <tr>\n",
       "      <th>4</th>\n",
       "      <td>POINT (-122.89692 47.043535)</td>\n",
       "      <td>422, Legion Way Southeast, Olympia, Thurston C...</td>\n",
       "    </tr>\n",
       "    <tr>\n",
       "      <th>5</th>\n",
       "      <td>POINT (-122.1713847 48.10433)</td>\n",
       "      <td>4332, 121st Street Northeast, Kruse, Kruse Jun...</td>\n",
       "    </tr>\n",
       "    <tr>\n",
       "      <th>6</th>\n",
       "      <td>POINT (-122.111625 47.36078)</td>\n",
       "      <td>26830, 172nd Place Southeast, Covington, King ...</td>\n",
       "    </tr>\n",
       "    <tr>\n",
       "      <th>7</th>\n",
       "      <td>POINT (-122.151665 47.75855)</td>\n",
       "      <td>14055, Northeast 181st Street, Le Chardonnay, ...</td>\n",
       "    </tr>\n",
       "    <tr>\n",
       "      <th>8</th>\n",
       "      <td>POINT (-122.6880708 48.2179983)</td>\n",
       "      <td>Northwest 6th Street, Coupeville, Washington, ...</td>\n",
       "    </tr>\n",
       "    <tr>\n",
       "      <th>9</th>\n",
       "      <td>POINT (-122.201905 47.61385)</td>\n",
       "      <td>Northeast 4th Street, Bellevue, King County, W...</td>\n",
       "    </tr>\n",
       "  </tbody>\n",
       "</table>\n",
       "</div>"
      ],
      "text/plain": [
       "                  Vehicle Location  \\\n",
       "0     POINT (-122.34301 47.659185)   \n",
       "1     POINT (-122.20578 47.762405)   \n",
       "2  POINT (-120.6027202 46.5965625)   \n",
       "3     POINT (-122.209285 47.71124)   \n",
       "4     POINT (-122.89692 47.043535)   \n",
       "5    POINT (-122.1713847 48.10433)   \n",
       "6     POINT (-122.111625 47.36078)   \n",
       "7     POINT (-122.151665 47.75855)   \n",
       "8  POINT (-122.6880708 48.2179983)   \n",
       "9     POINT (-122.201905 47.61385)   \n",
       "\n",
       "                                      Street Address  \n",
       "0  1215, North 43rd Street, Wallingford, Seattle,...  \n",
       "1  18520, 101st Avenue Northeast, Wayne, Bothell,...  \n",
       "2  7002, West Chestnut Avenue, West Valley, Yakim...  \n",
       "3  9903, Northeast 124th Street, Juanita, Kirklan...  \n",
       "4  422, Legion Way Southeast, Olympia, Thurston C...  \n",
       "5  4332, 121st Street Northeast, Kruse, Kruse Jun...  \n",
       "6  26830, 172nd Place Southeast, Covington, King ...  \n",
       "7  14055, Northeast 181st Street, Le Chardonnay, ...  \n",
       "8  Northwest 6th Street, Coupeville, Washington, ...  \n",
       "9  Northeast 4th Street, Bellevue, King County, W...  "
      ]
     },
     "execution_count": 28,
     "metadata": {},
     "output_type": "execute_result"
    }
   ],
   "source": [
    "# sample test\n",
    "sample = population_evs.head(10)  \n",
    "sample['Street Address'] = sample.apply(get_address, axis=1)\n",
    "\n",
    "sample[['Vehicle Location', 'Street Address']]"
   ]
  },
  {
   "cell_type": "code",
   "execution_count": null,
   "id": "7f90b5d2-5d2d-4fae-bc86-882f03e6229f",
   "metadata": {
    "tags": []
   },
   "outputs": [],
   "source": [
    "###TAKE LONG TIME TO ADD THIS COLUMN\n",
    "population_evs['Street Address'] = population_evs.apply(get_address, axis=1)"
   ]
  },
  {
   "cell_type": "code",
   "execution_count": null,
   "id": "f380ac19-6c00-4fb5-8c9e-3dfd80c2891f",
   "metadata": {
    "tags": []
   },
   "outputs": [],
   "source": [
    "charging_stations.head()"
   ]
  },
  {
   "cell_type": "markdown",
   "id": "ed73d30a-665b-46b0-8a2f-87a17cd268a1",
   "metadata": {
    "colab_type": "text",
    "id": "V08Pvv0jkYLz"
   },
   "source": [
    "\n",
    " \n",
    "\n",
    "Current Progress and Next Steps in Analysis:\n",
    "\n",
    "Column Retention:\n",
    "\n",
    "I have not yet dropped any columns from the datasets, opting to retain all data for now. This approach allows flexibility in case additional columns become relevant as the analysis progresses.\n",
    "Creation of 'Street Address' Column:\n",
    "\n",
    "A 'Street Address' column has been successfully added to both datasets. This facilitates the comparison of vehicle locations with charging station addresses.\n",
    "Upcoming Analysis:\n",
    "\n",
    "The immediate focus is on calculating the distance between each vehicle's location and the nearest charging station. This will provide insights into the accessibility of charging stations from different points.\n",
    "I plan to analyze and possibly predict how far a car can travel based on the proximity of charging stations and the average kilometers per charge for specific EV models.\n",
    "Objective of Analysis:\n",
    "\n",
    "The ultimate goal is to assess the convenience of owning an EV in various areas of Washington. By correlating EV locations with charging station accessibility and vehicle range, I aim to provide valuable insights into the practicality of EV ownership in different zones across the state.\n",
    "\n"
   ]
  }
 ],
 "metadata": {
  "kernelspec": {
   "display_name": "Python 3 (ipykernel)",
   "language": "python",
   "name": "python3"
  },
  "language_info": {
   "codemirror_mode": {
    "name": "ipython",
    "version": 3
   },
   "file_extension": ".py",
   "mimetype": "text/x-python",
   "name": "python",
   "nbconvert_exporter": "python",
   "pygments_lexer": "ipython3",
   "version": "3.11.5"
  }
 },
 "nbformat": 4,
 "nbformat_minor": 5
}
